{
 "cells": [
  {
   "cell_type": "markdown",
   "metadata": {},
   "source": [
    "### Time Resolved Photoluminescence Modeling\n",
    "\n",
    "In a TRPL experiment the sample is hitted by a laser pulse of a very short time (picoseconds) which generates a first excess carrier density *n(0)*. This value decays in time due to charge recombination processes happening in the material.\n",
    "The overall decay of the excess carrier density results in a exponential decay curve that is normally fitted with a multiple exponential. But the main limitation is that lifetime constants are extrapoleted by these fitting curve which do not explain precisely the physical processes which play simultaneously a role in the decay dynamics. \n",
    "\n",
    "For these reasons, we want to analyze in details the processes of generation and recombination of charges that happen after excitation to find the best and most precise way to get information on carrier recombination processes.\n",
    "\n",
    "We start from the continuity equation which describe the number of photogenerated excess carrier in time:\n",
    "\n",
    "$\\frac{\\delta(n)}{\\delta(t)} = - R_1(z,t) - R_2(z,t)$\n",
    "\n",
    "* $R_1$ is the recombination constant associated with Shockley Read Hall (SRH) recombination\n",
    "\n",
    "$R_1 = \\frac{(n_0 + n)(p_0 + p) - n_i^2}{(n_0 + n) + (p_0 + p) + 2n_icosh\\frac{(E_i - E_t)}{kT}} \\sigma \\nu_{th} N_t$\n",
    "\n",
    "* $R_2$ is the recombination rate associated with the band-to-band recombination (bimolecular process)\n",
    "\n",
    "\n",
    "LLI\n",
    "$R_2(z, t) = k_2[p(p_0)]$\n",
    "\n",
    "HLI\n",
    "$R_2(z, t) = k_2[p^2]$\n",
    "\n",
    "The Auger recombination is negligible under the normal working condition of solar cells (below an excess carrier density of $10^{17} cm^{−3}$ )\n",
    "\n",
    "* **Low Level Injection regime: $n=p<<p_0$**\n",
    "\n",
    "Under low injection level (LLI) conditions, the photocarrier\n",
    "density *n* is much lower than the equilibrium density of the\n",
    "majority carriers; $R_1$ can be expressed as a linear function of the\n",
    "photocarrier density *n(z,t)*. \n",
    "Approximation:\n",
    "\n",
    "$R_1 = k_1n(z,t)$\n",
    "\n",
    "Where $k_1$ is the SRH recombination frequency(?=constant?)\n",
    "\n",
    "Approximation of $R_2$:\n",
    "\n",
    "$R_2 = k_2p_0p$\n",
    "\n",
    "**Continuity equation at LLI**\n",
    "\n",
    "$\\frac{\\delta(n)}{\\delta(t)} = -(k_1 + k_2p_0)p$\n",
    "\n",
    "$k_2p_0$ is non-negligible only if the\n",
    "absorbing layer is highly doped \n",
    "($k1 = 10^7 s^{−1}$ and $k_2 = 10^{−10} \\frac{cm^3}{s}, p_0 > 10^{17} cm^{−3}$). \n",
    "Therefore, under LLI conditions and low doping concentration, the decay of the photogenerated carriers is mainly controlled by the SRH recombination rate $k_1$\n",
    "\n",
    "**Continuity equation at HLI**\n",
    "\n",
    "$\\frac{\\delta(n)}{\\delta(t)} = -(k'_1 + k_2p_0)p - k_2p^2$  \n",
    "\n",
    "where $k'_1$ \n",
    "\n",
    "Approximation of the existance of only deep level traps:\n",
    "\n",
    "**LLI** : $\\frac{\\delta(n)}{\\delta(t)} = -(k_1 + k_2p_0)p - k_2p^2$ \n",
    "\n",
    "**HLI** : $\\frac{\\delta(n)}{\\delta(t)} = -(\\frac{k_1}{2} + k_2p_0)p - k_2p^2$ "
   ]
  },
  {
   "cell_type": "code",
   "execution_count": 1,
   "metadata": {},
   "outputs": [],
   "source": [
    "import numpy as np\n",
    "import matplotlib.pyplot as plt\n",
    "from scipy.integrate import odeint\n",
    "from scipy.stats import skewnorm\n",
    "from scipy.stats import exponnorm\n",
    "from customplotting.general import plot_xy, save_fig\n",
    "from functions import *"
   ]
  },
  {
   "cell_type": "code",
   "execution_count": 2,
   "metadata": {},
   "outputs": [],
   "source": [
    "\"\"\"Recycle params for plotting\"\"\"\n",
    "plt.rc('xtick', labelsize = 30)\n",
    "plt.rc('xtick.major', pad = 3)\n",
    "plt.rc('ytick', labelsize = 30)\n",
    "plt.rc('lines', lw = 3.5, markersize = 20.5)\n",
    "plt.rc('legend', fontsize = 30)\n",
    "plt.rc('axes', linewidth = 3.5)"
   ]
  },
  {
   "cell_type": "code",
   "execution_count": 3,
   "metadata": {},
   "outputs": [],
   "source": [
    "# HLI continuity equation: dn/dt with k2, n0 as a constant and k1 as a variable\n",
    "def photoluminescence_HLI(t, k1):\n",
    "    def model(n, t):\n",
    "        k2 = 2e-10\n",
    "        dndt = -(k2*(n**2) + k1*n)\n",
    "        return dndt\n",
    "    n0 = np.tile(np.power(10, 14), 50)\n",
    "    n = odeint(model, n0, t)\n",
    "    k2 = 2e-10\n",
    "    pl_HLI = k2 * (n**2)\n",
    "    return pl_HLI"
   ]
  },
  {
   "cell_type": "code",
   "execution_count": 4,
   "metadata": {},
   "outputs": [],
   "source": [
    "# LLI continuity equation: dn/dt with k2, n0 as a constant and k1 as a variable\n",
    "def photoluminescence_LLI(t, k1):\n",
    "    def model(n, t):\n",
    "        k2 = 2e-10\n",
    "        dndt = -(k2*(n**2) + k1*n)\n",
    "        return dndt\n",
    "    n0 = np.tile(np.power(10, 14), 50)\n",
    "    n = odeint(model, n0, t)\n",
    "    k2 = 2e-10\n",
    "    p0 = 3e15\n",
    "    pl_LLI = k2 * n* p0\n",
    "    return pl_LLI"
   ]
  },
  {
   "cell_type": "code",
   "execution_count": 5,
   "metadata": {
    "scrolled": true
   },
   "outputs": [
    {
     "data": {
      "text/plain": [
       "array([[2.00000000e+18, 2.00000000e+18, 2.00000000e+18, ...,\n",
       "        2.00000000e+18, 2.00000000e+18, 2.00000000e+18],\n",
       "       [1.99185516e+18, 1.99147179e+18, 1.99107006e+18, ...,\n",
       "        1.92831909e+18, 1.92494323e+18, 1.92141130e+18],\n",
       "       [1.98374381e+18, 1.98298029e+18, 1.98218034e+18, ...,\n",
       "        1.85920993e+18, 1.85270602e+18, 1.84591361e+18],\n",
       "       ...,\n",
       "       [3.99407156e+09, 1.52918315e+09, 5.58945355e+08, ...,\n",
       "        1.77746634e-46, 1.58799456e-45, 1.47314550e-45],\n",
       "       [3.97812398e+09, 1.52278426e+09, 5.56494156e+08, ...,\n",
       "        2.07475164e-46, 1.43832289e-45, 3.84874755e-45],\n",
       "       [3.96224008e+09, 1.51641215e+09, 5.54053706e+08, ...,\n",
       "        2.37917690e-46, 1.26836482e-45, 7.48218435e-45]])"
      ]
     },
     "execution_count": 5,
     "metadata": {},
     "output_type": "execute_result"
    }
   ],
   "source": [
    "# photoluminescence database from k1 from 1e5 to 1e7 and time from 0 to 1000ns\n",
    "pl_HLI = photoluminescence_HLI(t = np.linspace(0,10000, 5000)*1e-9, k1= np.logspace(6, 7, 50))\n",
    "pl_HLI"
   ]
  },
  {
   "cell_type": "code",
   "execution_count": 6,
   "metadata": {},
   "outputs": [
    {
     "data": {
      "text/plain": [
       "(5000, 50)"
      ]
     },
     "execution_count": 6,
     "metadata": {},
     "output_type": "execute_result"
    }
   ],
   "source": [
    "pl_HLI.shape"
   ]
  },
  {
   "cell_type": "code",
   "execution_count": 7,
   "metadata": {},
   "outputs": [
    {
     "data": {
      "text/plain": [
       "array([0.00000000e+00, 2.00040008e-09, 4.00080016e-09, ...,\n",
       "       9.99599920e-06, 9.99799960e-06, 1.00000000e-05])"
      ]
     },
     "execution_count": 7,
     "metadata": {},
     "output_type": "execute_result"
    }
   ],
   "source": [
    "#x values of time\n",
    "t = np.linspace(0,10000, 5000)*1e-9\n",
    "t"
   ]
  },
  {
   "cell_type": "code",
   "execution_count": 8,
   "metadata": {
    "scrolled": true
   },
   "outputs": [
    {
     "data": {
      "text/plain": [
       "50"
      ]
     },
     "execution_count": 8,
     "metadata": {},
     "output_type": "execute_result"
    }
   ],
   "source": [
    "#weighted sum of photoluminescence data\n",
    "pl_HLI_sum = pl_HLI.sum(axis=0)\n",
    "pl_HLI_sum.size"
   ]
  },
  {
   "cell_type": "code",
   "execution_count": 9,
   "metadata": {},
   "outputs": [
    {
     "data": {
      "text/plain": [
       "5000"
      ]
     },
     "execution_count": 9,
     "metadata": {},
     "output_type": "execute_result"
    }
   ],
   "source": [
    "#weighted average og the photoluminescence data\n",
    "pl_HLI_avg = np.average(pl_HLI, weights=pl_HLI_sum, axis=-1)\n",
    "pl_HLI_avg.size"
   ]
  },
  {
   "cell_type": "code",
   "execution_count": 10,
   "metadata": {
    "scrolled": true
   },
   "outputs": [
    {
     "data": {
      "image/png": "[encoded data removed]",
      "text/plain": [
       "<Figure size 432x288 with 1 Axes>"
      ]
     },
     "metadata": {
      "needs_background": "light"
     },
     "output_type": "display_data"
    }
   ],
   "source": [
    "\n",
    "#plot of exponential decay of photoluminescence\n",
    "plt.plot(t*1e9, pl_HLI)\n",
    "plt.plot(t*1e9, pl_HLI_avg,'k--', label=\"Average\")\n",
    "plt.xlabel('time (ns)', fontsize=25)\n",
    "plt.ylabel('PL intensity', fontsize= 25)\n",
    "plt.show()"
   ]
  },
  {
   "cell_type": "code",
   "execution_count": null,
   "metadata": {},
   "outputs": [],
   "source": [
    "#streched exponential fitting of the average PL exponential decay\n",
    "stretched_exp = stretch_exp_fit(pl_HLI_avg/np.max(pl_HLI_avg), t)\n",
    "print(\"tau_c (ns) = \"+str(stretched_exp[0]*1e9))\n",
    "print(\"Beta = \"+str(stretched_exp[1]))\n",
    "print(\"avg. tau (ns) = \"+str(stretched_exp[3]*1e9))"
   ]
  },
  {
   "cell_type": "code",
   "execution_count": null,
   "metadata": {},
   "outputs": [],
   "source": [
    "#double exponential fitting of the average PL exponential decay\n",
    "double_exp = double_exp_fit(pl_HLI_avg/np.max(pl_HLI_avg), t)\n",
    "print(\"tau1 (ns) = \"+str(double_exp[0]*1e9))\n",
    "print(\"a1 = \"+str(double_exp[1]))\n",
    "print(\"tau2 (ns) = \"+str(double_exp[2]*1e9))\n",
    "print(\"a2 = \"+str(double_exp[3]))\n",
    "print(\"avg. tau (ns) = \"+str(double_exp[4]*1e9))"
   ]
  },
  {
   "cell_type": "code",
   "execution_count": null,
   "metadata": {},
   "outputs": [],
   "source": [
    "#triple exponential fitting of the average PL exponential decay\n",
    "triple_exp = triple_exp_fit(pl_HLI_avg/np.max(pl_HLI_avg), t)\n",
    "print(\"tau1 (ns) = \"+str(triple_exp[0]*1e9))\n",
    "print(\"a1 = \"+str(triple_exp[1]))\n",
    "print(\"tau2 (ns) = \"+str(triple_exp[2]*1e9))\n",
    "print(\"a2 = \"+str(triple_exp[3]))\n",
    "print(\"tau3 (ns) = \"+str(triple_exp[4]*1e9))\n",
    "print(\"a3 (ns) = \"+str(triple_exp[5]))\n",
    "print(\"avg. tau (ns) = \"+str(triple_exp[6]*1e9))"
   ]
  },
  {
   "cell_type": "code",
   "execution_count": null,
   "metadata": {},
   "outputs": [],
   "source": [
    "#single exponential fitting of the average PL exponential decay\n",
    "single_exp = single_exp_fit(pl_HLI_avg/np.max(pl_HLI_avg), t)\n",
    "print(\"tau (ns) = \"+str(single_exp[0]*1e9))\n",
    "print(\"a = \"+str(single_exp[1]))\n",
    "print(\"avg. tau (ns) = \"+str(single_exp[2]*1e9))"
   ]
  },
  {
   "cell_type": "code",
   "execution_count": null,
   "metadata": {},
   "outputs": [],
   "source": [
    "# plot fitting functions of the average PL exponential decay\n",
    "plt.figure(figsize=(10,8))\n",
    "plt.plot(t*1e9, pl_HLI_avg/np.max(pl_HLI_avg),'C1o', alpha=0.7,label=\"average\")\n",
    "plt.plot(t*1e9, stretched_exp[4], 'b--', lw = 3, label=\"stretched exp fit\")\n",
    "plt.plot(t*1e9, double_exp[5], 'r--', lw = 3, label=\"double exp fit\")\n",
    "plt.plot(t*1e9, triple_exp[7], 'c--', lw = 3, label=\"triple exp fit\")\n",
    "plt.plot(t*1e9, single_exp[3], 'g--', lw = 3, label=\"single exp fit\")\n",
    "plt.yscale('log')\n",
    "plt.xlabel(\"Time (ns)\", fontsize=30)\n",
    "plt.ylabel(\"Intensity (norm.)\", fontsize=30)\n",
    "plt.legend(fontsize=22)"
   ]
  },
  {
   "cell_type": "markdown",
   "metadata": {},
   "source": [
    "\n",
    "\n",
    "\n",
    "### Calculation of theoretical tau  \n",
    "$I = I_0e^{(\\frac{-t}{\\tau})}$ when t = $\\tau$ and $I = \\frac{I_0}{e}$"
   ]
  },
  {
   "cell_type": "code",
   "execution_count": null,
   "metadata": {},
   "outputs": [],
   "source": [
    "PL_e_HLI = np.max(pl_HLI, axis=0)/np.e\n",
    "PL_e_HLI.size"
   ]
  },
  {
   "cell_type": "code",
   "execution_count": null,
   "metadata": {},
   "outputs": [],
   "source": [
    "#function to calulate the index of the PL/e values in the \"pl\" database by looking at the nearest neighbor of the \"PL_e_values\" inside \"pl\"\n",
    "def find_idx(array, value):\n",
    "    return (np.abs(array - value)).argmin()"
   ]
  },
  {
   "cell_type": "code",
   "execution_count": null,
   "metadata": {},
   "outputs": [],
   "source": [
    "# index of PL data calculated considering each array inside the array of pl singularly\n",
    "time_PL_HLI = np.array([])\n",
    "for ix, i in enumerate(PL_e_HLI):\n",
    "    b = find_idx(pl_HLI[:, ix], i)\n",
    "    time_PL_HLI = np.append(time_PL_HLI, b)\n",
    "time_PL_HLI"
   ]
  },
  {
   "cell_type": "code",
   "execution_count": null,
   "metadata": {
    "scrolled": true
   },
   "outputs": [],
   "source": [
    "# array of lifetime at which PL=PL0/e\n",
    "lifetime_HLI = np.array([])\n",
    "for i in time_PL_HLI:\n",
    "    lifetime_HLI = np.append(lifetime_HLI, t[int(i)]) \n",
    "lifetime_HLI*1e9"
   ]
  },
  {
   "cell_type": "code",
   "execution_count": null,
   "metadata": {},
   "outputs": [],
   "source": [
    "avg_lifetime_HLI = np.average(lifetime_HLI, weights=pl_HLI_sum, axis=-1)\n",
    "avg_lifetime_HLI*1e9"
   ]
  },
  {
   "cell_type": "code",
   "execution_count": null,
   "metadata": {},
   "outputs": [],
   "source": [
    "#plot of different tau values, from mathematical calculation (reference) and fitting functions\n",
    "plt.figure()\n",
    "plt.title(\"Lifetime values\", fontsize=30, fontweight=\"bold\")\n",
    "plt.barh(\"Theoretical lifetime\", avg_lifetime_HLI*1e9)\n",
    "plt.barh(\"Stretched Exp $\\tau$\", stretched_exp[3]*1e9)\n",
    "plt.barh(\"Double Exp $\\tau^{avg}$\", double_exp[4]*1e9)\n",
    "plt.barh(\"Double Exp $\\tau^{2}$\", double_exp[2]*1e9)\n",
    "plt.barh(\"Single Exp $\\tau$\", single_exp[2]*1e9)\n",
    "#plt.barh(\"Triple Exp $\\tau^{3}$\", triple_exp[4]*1e9)\n",
    "#plt.barh(\"Triple Exp $\\tau^{avg}$\", triple_exp[6]*1e9)"
   ]
  },
  {
   "cell_type": "code",
   "execution_count": null,
   "metadata": {},
   "outputs": [],
   "source": [
    "plt.figure()\n",
    "plt.barh(\"Theoretical lifetime\", avg_lifetime_HLI*1e9)\n",
    "plt.barh(\"Stretched Exp\", stretched_exp[3]*1e9)\n",
    "plt.barh(\"Double Exp Avg Tau\", double_exp[4]*1e9)"
   ]
  },
  {
   "cell_type": "markdown",
   "metadata": {},
   "source": [
    "### Low Level Injection "
   ]
  },
  {
   "cell_type": "code",
   "execution_count": null,
   "metadata": {},
   "outputs": [],
   "source": [
    "#creation of LLI PL decay curves and average decay curve\n",
    "\n",
    "# photoluminescence database from k1 from 1e5 to 1e7 and time from 0 to 1000ns\n",
    "pl_LLI = photoluminescence_LLI(t = np.linspace(0,10000, 5000)*1e-9, k1= np.logspace(6, 7, 50))\n",
    "pl_LLI\n",
    "\n",
    "#weighted sum of photoluminescence data\n",
    "pl_LLI_sum = pl_LLI.sum(axis=0)\n",
    "pl_LLI_sum\n",
    "\n",
    "#weighted average og the photoluminescence data\n",
    "pl_LLI_avg = np.average(pl_LLI, weights=pl_LLI_sum, axis=-1)\n",
    "pl_LLI_avg"
   ]
  },
  {
   "cell_type": "code",
   "execution_count": null,
   "metadata": {},
   "outputs": [],
   "source": [
    "#plot of exponential decay of photoluminescence\n",
    "plt.plot(t*1e9, pl_LLI)\n",
    "plt.plot(t*1e9, pl_LLI_avg,'k--', label=\"Average\")\n",
    "plt.xlabel('time (ns)', fontsize =25)\n",
    "plt.ylabel('PL intensity', fontsize= 25)\n",
    "plt.show()"
   ]
  },
  {
   "cell_type": "code",
   "execution_count": null,
   "metadata": {},
   "outputs": [],
   "source": [
    "#streched exponential fitting of the average PL exponential decay\n",
    "stretched_exp = stretch_exp_fit(pl_LLI_avg/np.max(pl_LLI_avg), t)\n",
    "print(\"tau_c (ns) = \"+str(stretched_exp[0]*1e9))\n",
    "print(\"Beta = \"+str(stretched_exp[1]))\n",
    "print(\"avg. tau (ns) = \"+str(stretched_exp[3]*1e9))"
   ]
  },
  {
   "cell_type": "code",
   "execution_count": null,
   "metadata": {},
   "outputs": [],
   "source": [
    "#double exponential fitting of the average PL exponential decay\n",
    "double_exp = double_exp_fit(pl_LLI_avg/np.max(pl_LLI_avg), t)\n",
    "print(\"tau1 (ns) = \"+str(double_exp[0]*1e9))\n",
    "print(\"a1 = \"+str(double_exp[1]))\n",
    "print(\"tau2 (ns) = \"+str(double_exp[2]*1e9))\n",
    "print(\"a2 = \"+str(double_exp[3]))\n",
    "print(\"avg. tau (ns) = \"+str(double_exp[4]*1e9))"
   ]
  },
  {
   "cell_type": "code",
   "execution_count": null,
   "metadata": {},
   "outputs": [],
   "source": [
    "#triple exponential fitting of the average PL exponential decay\n",
    "triple_exp = triple_exp_fit(pl_LLI_avg/np.max(pl_LLI_avg), t)\n",
    "print(\"tau1 (ns) = \"+str(triple_exp[0]*1e9))\n",
    "print(\"a1 = \"+str(triple_exp[1]))\n",
    "print(\"tau2 (ns) = \"+str(triple_exp[2]*1e9))\n",
    "print(\"a2 = \"+str(triple_exp[3]))\n",
    "print(\"tau3 (ns) = \"+str(triple_exp[4]*1e9))\n",
    "print(\"a3 (ns) = \"+str(triple_exp[5]))\n",
    "print(\"avg. tau (ns) = \"+str(triple_exp[6]*1e9))"
   ]
  },
  {
   "cell_type": "code",
   "execution_count": null,
   "metadata": {},
   "outputs": [],
   "source": [
    "#single exponential fitting of the average PL exponential decay\n",
    "single_exp = single_exp_fit(pl_LLI_avg/np.max(pl_LLI_avg), t)\n",
    "print(\"tau (ns) = \"+str(single_exp[0]*1e9))\n",
    "print(\"a = \"+str(single_exp[1]))\n",
    "print(\"avg. tau (ns) = \"+str(single_exp[2]*1e9))"
   ]
  },
  {
   "cell_type": "code",
   "execution_count": null,
   "metadata": {},
   "outputs": [],
   "source": [
    "# plot fitting functions of the average PL exponential decay\n",
    "plt.figure(figsize=(10,8))\n",
    "plt.plot(t*1e9, pl_LLI_avg/np.max(pl_LLI_avg),'C1o', alpha=0.7,label=\"average\")\n",
    "plt.plot(t*1e9, stretched_exp[4], 'b--', lw = 3, label=\"stretched exp fit\")\n",
    "plt.plot(t*1e9, double_exp[5], 'r--', lw = 3, label=\"double exp fit\")\n",
    "plt.plot(t*1e9, triple_exp[7], 'c--', lw = 3, label=\"triple exp fit\")\n",
    "plt.plot(t*1e9, single_exp[3], 'g--', lw = 3, label=\"single exp fit\")\n",
    "plt.yscale('log')\n",
    "plt.xlabel(\"Time (ns)\", fontsize=30)\n",
    "plt.ylabel(\"Intensity (norm.)\", fontsize=30)\n",
    "plt.legend(fontsize=22)"
   ]
  },
  {
   "cell_type": "code",
   "execution_count": null,
   "metadata": {},
   "outputs": [],
   "source": [
    "#Mathematical derivation of theoretical average lifetime from weighted average of each time at which I = I0/e\n",
    "\n",
    "#photoluminescence maximum from LLI regime divided by e\n",
    "PL_e_LLI = np.max(pl_LLI, axis=0)/np.e\n",
    "PL_e_LLI.size\n",
    "\n",
    "# index of LLI PL data calculated considering each array inside the array of pl singularly\n",
    "time_PL_LLI = np.array([])\n",
    "for ix, i in enumerate(PL_e_LLI):\n",
    "    b = find_idx(pl_LLI[:, ix], i)\n",
    "    time_PL_LLI = np.append(time_PL_LLI, b)\n",
    "time_PL_LLI\n",
    "\n",
    "# array of lifetime at which PL=PL0/e at LLI\n",
    "lifetime_LLI = np.array([])\n",
    "for i in time_PL_LLI:\n",
    "    lifetime_LLI = np.append(lifetime_LLI, t[int(i)]) \n",
    "lifetime_LLI*1e9\n",
    "\n",
    "#weighted average of calculate lifetimes with pl_sum weights\n",
    "avg_lifetime_LLI = np.average(lifetime_LLI, weights=pl_LLI_sum, axis=-1)\n",
    "avg_lifetime_LLI*1e9"
   ]
  },
  {
   "cell_type": "code",
   "execution_count": null,
   "metadata": {},
   "outputs": [],
   "source": [
    "#plot of different tau values, from mathematical calculation (reference) and fitting functions\n",
    "plt.figure()\n",
    "plt.title(\"Lifetime values\", fontsize=30, fontweight=\"bold\")\n",
    "plt.barh(\"Theoretical lifetime\", avg_lifetime_LLI*1e9)\n",
    "plt.barh(\"Stretched Exp $\\tau$\", stretched_exp[3]*1e9)\n",
    "plt.barh(\"Double Exp $\\tau^{avg}$\", double_exp[4]*1e9)\n",
    "plt.barh(\"Double Exp $\\tau^{2}$\", double_exp[2]*1e9)\n",
    "plt.barh(\"Single Exp $\\tau$\", single_exp[2]*1e9)\n",
    "#plt.barh(\"Triple Exp $\\tau^{3}$\", triple_exp[4]*1e9)\n",
    "#plt.barh(\"Triple Exp $\\tau^{avg}$\", triple_exp[6]*1e9)"
   ]
  },
  {
   "cell_type": "code",
   "execution_count": null,
   "metadata": {},
   "outputs": [],
   "source": [
    "plt.figure()\n",
    "plt.barh(\"Theoretical lifetime\", avg_lifetime_LLI*1e9)\n",
    "plt.barh(\"Stretched Exp\", stretched_exp[3]*1e9)\n",
    "plt.barh(\"Double Exp Avg Tau\", double_exp[4]*1e9)"
   ]
  },
  {
   "cell_type": "markdown",
   "metadata": {},
   "source": [
    "## Skew-Normal Distribution of k1 with a = 2\n",
    "\n",
    "The Skew-Normal distribution is an extension of the normal (Gaussian) probability distribution, allowing for the presence of skewness.\n",
    "The component $\\alpha$ is what gives the distribution its \"skewness\" which regulates the shape of the density function. \n",
    "\n",
    "* when $\\alpha=0$, the skewness vanishes, and we obtain the standard Normal density\n",
    "* when $\\alpha$ increases in absolute value , the skewness of the distribution increases.\n",
    "* when  $\\alpha\\to\\infty$ the density converges to the so-called half-normal (or folded normal) density function\n",
    "* when the sign of $\\alpha$ changes, the density is reflected on the opposite side of the vertical axis.\n",
    "\n",
    "<a href=\"{http://azzalini.stat.unipd.it/SN/Intro/intro.html}\">{Ref}</a>\n",
    "\n",
    "For a random variable $x$ which has a standard skew normal distribution with skewness parameter $\\alpha$, its probability density function is given by:\n",
    "\n",
    "\n",
    "$f(x) = 2 \\phi(x) \\Phi(\\alpha x)$\n",
    "\n",
    "with :\n",
    "\n",
    "$\\phi(x)={\\frac {1}{\\sqrt {2\\pi }}}\\;e^{-x^{2}/2}$\n",
    "$\\qquad \\Phi(\\alpha x) = \\int_{-\\infty}^{\\alpha x}\\phi(t) dt$\n",
    "\n",
    "Simple continuity equation considering just the radiative (k2) and defect-assisted non-radiative recombination (k1)\n",
    "* k1 = skewed distribution with maximum at 1e6 ns and a size of 50 data points\n",
    "* k2 = 2e-10 cm^3 s^-1\n",
    "* n0 = 1e14\n",
    "* t = 0 to 1000 ns"
   ]
  },
  {
   "cell_type": "code",
   "execution_count": null,
   "metadata": {},
   "outputs": [],
   "source": [
    "# skewed gaussian distribution of k1 values\n",
    "skew = skewnorm.rvs(a = 2, loc = 1e6, scale=1e7, size=50)"
   ]
  },
  {
   "cell_type": "code",
   "execution_count": null,
   "metadata": {},
   "outputs": [],
   "source": [
    "plt.figure()\n",
    "plt.tick_params(length=8)\n",
    "plt.hist(skew)\n",
    "plt.xlabel(\"K1 values (s-1)\")\n",
    "plt.xscale(\"log\")"
   ]
  },
  {
   "cell_type": "markdown",
   "metadata": {},
   "source": [
    "### SN of k1 in HLI regime"
   ]
  },
  {
   "cell_type": "code",
   "execution_count": null,
   "metadata": {},
   "outputs": [],
   "source": [
    "# PL decay curves for each k1 value \n",
    "pl_skew = photoluminescence_HLI(k1= skew, t=np.linspace(0,10000, 5000)*1e-9)\n",
    "pl_skew\n",
    "\n",
    "# weight of each decay curve\n",
    "skew_sum = pl_skew.sum(axis=0)\n",
    "skew_sum.size\n",
    "\n",
    "\n",
    "# weighted average curve which is most likely the one we end up seeing as overall decay\n",
    "pl_skew_avg = np.average(pl_skew, weights=skew_sum, axis=-1)\n",
    "pl_skew_avg.size"
   ]
  },
  {
   "cell_type": "code",
   "execution_count": null,
   "metadata": {},
   "outputs": [],
   "source": [
    "#plot of all exponetial decay for each k1 and average curve\n",
    "plt.plot(t*1e9, pl_skew)\n",
    "plt.plot(t*1e9, pl_skew_avg,'k--', label=\"Average\")\n",
    "plt.xlabel('time (ns)', fontsize=12)\n",
    "plt.ylabel('PL intensity', fontsize=12)\n",
    "plt.show()"
   ]
  },
  {
   "cell_type": "code",
   "execution_count": null,
   "metadata": {},
   "outputs": [],
   "source": [
    "stretched_exp_skew = stretch_exp_fit(pl_skew_avg/np.max(pl_skew_avg), t)\n",
    "print(\"tau_c (ns) = \"+str(stretched_exp_skew[0]*1e9))\n",
    "print(\"Beta = \"+str(stretched_exp_skew[1]))\n",
    "print(\"avg. tau (ns) = \"+str(stretched_exp_skew[3]*1e9))"
   ]
  },
  {
   "cell_type": "code",
   "execution_count": null,
   "metadata": {},
   "outputs": [],
   "source": [
    "double_exp_skew = double_exp_fit(pl_skew_avg/np.max(pl_skew_avg), t)\n",
    "print(\"tau1 (ns) = \"+str(double_exp_skew[0]*1e9))\n",
    "print(\"a1 = \"+str(double_exp_skew[1]))\n",
    "print(\"tau2 (ns) = \"+str(double_exp_skew[2]*1e9))\n",
    "print(\"a2 = \"+str(double_exp_skew[3]))\n",
    "print(\"avg. tau (ns) = \"+str(double_exp_skew[4]*1e9))"
   ]
  },
  {
   "cell_type": "code",
   "execution_count": null,
   "metadata": {},
   "outputs": [],
   "source": [
    "triple_exp_skew = triple_exp_fit(pl_skew_avg/np.max(pl_skew_avg), t)\n",
    "print(\"tau1 (ns) = \"+str(triple_exp_skew[0]*1e9))\n",
    "print(\"a1 = \"+str(triple_exp_skew[1]))\n",
    "print(\"tau2 (ns) = \"+str(triple_exp_skew[2]*1e9))\n",
    "print(\"a2 = \"+str(triple_exp_skew[3]))\n",
    "print(\"tau3 (ns) = \"+str(triple_exp_skew[4]*1e9))\n",
    "print(\"a3 (ns) = \"+str(triple_exp_skew[5]))\n",
    "print(\"avg. tau (ns) = \"+str(triple_exp_skew[6]*1e9))"
   ]
  },
  {
   "cell_type": "code",
   "execution_count": null,
   "metadata": {},
   "outputs": [],
   "source": [
    "single_exp_skew = single_exp_fit(pl_skew_avg/np.max(pl_skew_avg), t)\n",
    "print(\"tau (ns) = \"+str(single_exp_skew[0]*1e9))\n",
    "print(\"a = \"+str(single_exp_skew[1]))\n",
    "print(\"avg. tau (ns) = \"+str(single_exp_skew[2]*1e9))"
   ]
  },
  {
   "cell_type": "code",
   "execution_count": null,
   "metadata": {},
   "outputs": [],
   "source": [
    "# plot average curve and multiple exponential fitting curves\n",
    "plt.figure(figsize=(10,8))\n",
    "plt.plot(t*1e9, pl_skew_avg/np.max(pl_skew_avg),'C1o', alpha=0.7,label=\"average\")\n",
    "plt.plot(t*1e9, stretched_exp_skew[4], 'b--', lw = 3, label=\"stretched exp fit\")\n",
    "plt.plot(t*1e9, double_exp_skew[5], 'r--', lw = 3, label=\"double exp fit\")\n",
    "plt.plot(t*1e9, triple_exp_skew[7], 'c--', lw = 3, label=\"triple exp fit\")\n",
    "plt.plot(t*1e9, single_exp_skew[3], 'g--', lw = 3, label=\"single exp fit\")\n",
    "plt.yscale('log')\n",
    "plt.xlabel(\"Time (ns)\", fontsize=30)\n",
    "plt.ylabel(\"Intensity (norm.)\", fontsize=30)\n",
    "plt.legend(fontsize=22)"
   ]
  },
  {
   "cell_type": "code",
   "execution_count": null,
   "metadata": {},
   "outputs": [],
   "source": [
    "#Mathematical deriation of lifetime from average curve knowing at $\\tau$ : $I = \\frac{I_0}{e}$\n",
    "\n",
    "#photoluminescence maximum divided by e\n",
    "PL_e_skew = np.max(pl_skew, axis=0)/np.e\n",
    "PL_e_skew.size\n",
    "\n",
    "# index of PL data calculated considering each array inside the array of pl singularly\n",
    "time_skew_PL_e = np.array([])\n",
    "for ix, i in enumerate(PL_e_skew):\n",
    "    b = find_idx(pl_skew[ix, :], i)\n",
    "    time_skew_PL_e = np.append(time_skew_PL_e, b)\n",
    "time_skew_PL_e\n",
    "\n",
    "# array of lifetime at which PL=PL0/e\n",
    "lifetime_skew = np.array([])\n",
    "for i in time_skew_PL_e:\n",
    "    lifetime_skew = np.append(lifetime_skew, t[int(i)]) \n",
    "lifetime_skew*1e9\n",
    "\n",
    "# index of LLI PL data calculated considering each array inside the array of pl singularly\n",
    "time_skew_PL_e = np.array([])\n",
    "for ix, i in enumerate(PL_e_skew):\n",
    "    b = find_idx(pl_skew[:, ix], i)\n",
    "    time_skew_PL_e = np.append(time_skew_PL_e, b)\n",
    "time_skew_PL_e\n",
    "\n",
    "# array of lifetime at which PL=PL0/e\n",
    "lifetime_skew = np.array([])\n",
    "for i in time_skew_PL_e:\n",
    "    lifetime_skew = np.append(lifetime_skew, t[int(i)]) \n",
    "lifetime_skew*1e9\n",
    "\n",
    "\n",
    "lifetime_skew_avg = np.average(lifetime_skew, weights= skew_sum, axis=-1)\n",
    "lifetime_skew_avg*1e9"
   ]
  },
  {
   "cell_type": "code",
   "execution_count": null,
   "metadata": {},
   "outputs": [],
   "source": [
    "#plot of different tau values, from mathematical calculation (reference) and fitting functions\n",
    "plt.figure()\n",
    "plt.title(\"Lifetime values\", fontsize=30, fontweight=\"bold\")\n",
    "plt.barh(\"Theoretical $\\tau$\", lifetime_skew_avg*1e9)\n",
    "plt.barh(\"Stretched Exp $\\tau$\", stretched_exp_skew[3]*1e9)\n",
    "plt.barh(\"Double Exp $\\tau^{avg}$\", double_exp_skew[4]*1e9)\n",
    "plt.barh(\"Double Exp $\\tau^{2}$\", double_exp_skew[2]*1e9)\n",
    "plt.barh(\"Single Exp $\\tau$\", single_exp_skew[2]*1e9)\n",
    "#plt.barh(\"Triple Exp $\\tau^{3}$\", triple_exp_skew[4]*1e9)\n",
    "#plt.barh(\"Triple Exp $\\tau^{avg}$\", triple_exp_skew[6]*1e9)"
   ]
  },
  {
   "cell_type": "code",
   "execution_count": null,
   "metadata": {},
   "outputs": [],
   "source": [
    "plt.figure()\n",
    "plt.barh(\"Theoretical $\\tau$\", lifetime_skew_avg*1e9)\n",
    "plt.barh(\"Stretched Exp $\\tau$\", stretched_exp_skew[3]*1e9)\n",
    "plt.barh(\"Double Exp $\\tau^{avg}$\", double_exp_skew[4]*1e9)"
   ]
  },
  {
   "cell_type": "markdown",
   "metadata": {},
   "source": [
    "### SN of k1 in LLI regime"
   ]
  },
  {
   "cell_type": "code",
   "execution_count": null,
   "metadata": {},
   "outputs": [],
   "source": [
    "# PL decay curves for each k1 value \n",
    "pl_skew = photoluminescence_LLI(k1= skew, t=np.linspace(0,10000, 5000)*1e-9)\n",
    "pl_skew\n",
    "\n",
    "# weight of each decay curve\n",
    "skew_sum = pl_skew.sum(axis=0)\n",
    "skew_sum.size\n",
    "\n",
    "\n",
    "# weighted average curve which is most likely the one we end up seeing as overall decay\n",
    "pl_skew_avg = np.average(pl_skew, weights=skew_sum, axis=-1)\n",
    "pl_skew_avg.size"
   ]
  },
  {
   "cell_type": "code",
   "execution_count": null,
   "metadata": {},
   "outputs": [],
   "source": [
    "#plot of all exponetial decay for each k1 and average curve\n",
    "plt.plot(t*1e9, pl_skew)\n",
    "plt.plot(t*1e9, pl_skew_avg,'k--', label=\"Average\")\n",
    "plt.xlabel('time (ns)', fontsize=12)\n",
    "plt.ylabel('PL intensity', fontsize=12)\n",
    "plt.show()"
   ]
  },
  {
   "cell_type": "code",
   "execution_count": null,
   "metadata": {},
   "outputs": [],
   "source": [
    "stretched_exp_skew = stretch_exp_fit(pl_skew_avg/np.max(pl_skew_avg), t)\n",
    "print(\"tau_c (ns) = \"+str(stretched_exp_skew[0]*1e9))\n",
    "print(\"Beta = \"+str(stretched_exp_skew[1]))\n",
    "print(\"avg. tau (ns) = \"+str(stretched_exp_skew[3]*1e9))"
   ]
  },
  {
   "cell_type": "code",
   "execution_count": null,
   "metadata": {},
   "outputs": [],
   "source": [
    "double_exp_skew = double_exp_fit(pl_skew_avg/np.max(pl_skew_avg), t)\n",
    "print(\"tau1 (ns) = \"+str(double_exp_skew[0]*1e9))\n",
    "print(\"a1 = \"+str(double_exp_skew[1]))\n",
    "print(\"tau2 (ns) = \"+str(double_exp_skew[2]*1e9))\n",
    "print(\"a2 = \"+str(double_exp_skew[3]))\n",
    "print(\"avg. tau (ns) = \"+str(double_exp_skew[4]*1e9))"
   ]
  },
  {
   "cell_type": "code",
   "execution_count": null,
   "metadata": {},
   "outputs": [],
   "source": [
    "triple_exp_skew = triple_exp_fit(pl_skew_avg/np.max(pl_skew_avg), t)\n",
    "print(\"tau1 (ns) = \"+str(triple_exp_skew[0]*1e9))\n",
    "print(\"a1 = \"+str(triple_exp_skew[1]))\n",
    "print(\"tau2 (ns) = \"+str(triple_exp_skew[2]*1e9))\n",
    "print(\"a2 = \"+str(triple_exp_skew[3]))\n",
    "print(\"tau3 (ns) = \"+str(triple_exp_skew[4]*1e9))\n",
    "print(\"a3 (ns) = \"+str(triple_exp_skew[5]))\n",
    "print(\"avg. tau (ns) = \"+str(triple_exp_skew[6]*1e9))"
   ]
  },
  {
   "cell_type": "code",
   "execution_count": null,
   "metadata": {},
   "outputs": [],
   "source": [
    "single_exp_skew = single_exp_fit(pl_skew_avg/np.max(pl_skew_avg), t)\n",
    "print(\"tau (ns) = \"+str(single_exp_skew[0]*1e9))\n",
    "print(\"a = \"+str(single_exp_skew[1]))\n",
    "print(\"avg. tau (ns) = \"+str(single_exp_skew[2]*1e9))"
   ]
  },
  {
   "cell_type": "code",
   "execution_count": null,
   "metadata": {},
   "outputs": [],
   "source": [
    "# plot average curve and multiple exponential fitting curves\n",
    "plt.figure(figsize=(10,8))\n",
    "plt.plot(t*1e9, pl_skew_avg/np.max(pl_skew_avg),'C1o', alpha=0.7,label=\"average\")\n",
    "plt.plot(t*1e9, stretched_exp_skew[4], 'b--', lw = 3, label=\"stretched exp fit\")\n",
    "plt.plot(t*1e9, double_exp_skew[5], 'r--', lw = 3, label=\"double exp fit\")\n",
    "plt.plot(t*1e9, triple_exp_skew[7], 'c--', lw = 3, label=\"triple exp fit\")\n",
    "plt.plot(t*1e9, single_exp_skew[3], 'g--', lw = 3, label=\"single exp fit\")\n",
    "plt.yscale('log')\n",
    "plt.xlabel(\"Time (ns)\", fontsize=30)\n",
    "plt.ylabel(\"Intensity (norm.)\", fontsize=30)\n",
    "plt.legend(fontsize=22)"
   ]
  },
  {
   "cell_type": "code",
   "execution_count": null,
   "metadata": {},
   "outputs": [],
   "source": [
    "#Mathematical deriation of lifetime from average curve knowing at $\\tau$ : $I = \\frac{I_0}{e}$\n",
    "\n",
    "#photoluminescence maximum divided by e\n",
    "PL_e_skew = np.max(pl_skew, axis=0)/np.e\n",
    "PL_e_skew.size\n",
    "\n",
    "# index of PL data calculated considering each array inside the array of pl singularly\n",
    "time_skew_PL_e = np.array([])\n",
    "for ix, i in enumerate(PL_e_skew):\n",
    "    b = find_idx(pl_skew[ix, :], i)\n",
    "    time_skew_PL_e = np.append(time_skew_PL_e, b)\n",
    "time_skew_PL_e\n",
    "\n",
    "# array of lifetime at which PL=PL0/e\n",
    "lifetime_skew = np.array([])\n",
    "for i in time_skew_PL_e:\n",
    "    lifetime_skew = np.append(lifetime_skew, t[int(i)]) \n",
    "lifetime_skew*1e9\n",
    "\n",
    "# index of LLI PL data calculated considering each array inside the array of pl singularly\n",
    "time_skew_PL_e = np.array([])\n",
    "for ix, i in enumerate(PL_e_skew):\n",
    "    b = find_idx(pl_skew[:, ix], i)\n",
    "    time_skew_PL_e = np.append(time_skew_PL_e, b)\n",
    "time_skew_PL_e\n",
    "\n",
    "# array of lifetime at which PL=PL0/e\n",
    "lifetime_skew = np.array([])\n",
    "for i in time_skew_PL_e:\n",
    "    lifetime_skew = np.append(lifetime_skew, t[int(i)]) \n",
    "lifetime_skew*1e9\n",
    "\n",
    "\n",
    "lifetime_skew_avg = np.average(lifetime_skew, weights= skew_sum, axis=-1)\n",
    "lifetime_skew_avg*1e9"
   ]
  },
  {
   "cell_type": "code",
   "execution_count": null,
   "metadata": {},
   "outputs": [],
   "source": [
    "#plot of different tau values, from mathematical calculation (reference) and fitting functions\n",
    "plt.figure()\n",
    "plt.title(\"Lifetime values\", fontsize=30, fontweight=\"bold\")\n",
    "plt.barh(\"Theoretical $\\tau$\", lifetime_skew_avg*1e9)\n",
    "plt.barh(\"Stretched Exp $\\tau$\", stretched_exp_skew[3]*1e9)\n",
    "plt.barh(\"Double Exp $\\tau^{avg}$\", double_exp_skew[4]*1e9)\n",
    "plt.barh(\"Double Exp $\\tau^{2}$\", double_exp_skew[2]*1e9)\n",
    "plt.barh(\"Single Exp $\\tau$\", single_exp_skew[2]*1e9)\n",
    "#plt.barh(\"Triple Exp $\\tau^{3}$\", triple_exp_skew[4]*1e9)\n",
    "#plt.barh(\"Triple Exp $\\tau^{avg}$\", triple_exp_skew[6]*1e9)"
   ]
  },
  {
   "cell_type": "code",
   "execution_count": null,
   "metadata": {},
   "outputs": [],
   "source": [
    "plt.figure()\n",
    "plt.barh(\"Theoretical $\\tau$\", lifetime_skew_avg*1e9)\n",
    "plt.barh(\"Stretched Exp $\\tau$\", stretched_exp_skew[3]*1e9)\n",
    "plt.barh(\"Double Exp $\\tau^{avg}$\", double_exp_skew[4]*1e9)"
   ]
  },
  {
   "cell_type": "markdown",
   "metadata": {},
   "source": [
    "## Skewed distribution of k1 with a = 5"
   ]
  },
  {
   "cell_type": "code",
   "execution_count": null,
   "metadata": {},
   "outputs": [],
   "source": [
    "# skewed gaussian distribution of k1 values\n",
    "skew = skewnorm.rvs(a = 5, loc = 1e6, scale=1e7, size=50)"
   ]
  },
  {
   "cell_type": "code",
   "execution_count": null,
   "metadata": {},
   "outputs": [],
   "source": [
    "plt.figure()\n",
    "plt.tick_params(length=8)\n",
    "plt.hist(skew)\n",
    "plt.xlabel(\"K1 values (s-1)\")\n",
    "plt.xscale(\"log\")"
   ]
  },
  {
   "cell_type": "markdown",
   "metadata": {},
   "source": [
    "### SN of k1 in HLI regime"
   ]
  },
  {
   "cell_type": "code",
   "execution_count": null,
   "metadata": {},
   "outputs": [],
   "source": [
    "# PL decay curves for each k1 value \n",
    "pl_skew = photoluminescence_HLI(k1= skew, t=np.linspace(0,10000, 5000)*1e-9)\n",
    "pl_skew\n",
    "\n",
    "# weight of each decay curve\n",
    "skew_sum = pl_skew.sum(axis=0)\n",
    "skew_sum.size\n",
    "\n",
    "\n",
    "# weighted average curve which is most likely the one we end up seeing as overall decay\n",
    "pl_skew_avg = np.average(pl_skew, weights=skew_sum, axis=-1)\n",
    "pl_skew_avg.size"
   ]
  },
  {
   "cell_type": "code",
   "execution_count": null,
   "metadata": {},
   "outputs": [],
   "source": [
    "#plot of all exponetial decay for each k1 and average curve\n",
    "plt.plot(t*1e9, pl_skew)\n",
    "plt.plot(t*1e9, pl_skew_avg,'k--', label=\"Average\")\n",
    "plt.xlabel('time (ns)', fontsize=12)\n",
    "plt.ylabel('PL intensity', fontsize=12)\n",
    "plt.show()"
   ]
  },
  {
   "cell_type": "code",
   "execution_count": null,
   "metadata": {},
   "outputs": [],
   "source": [
    "stretched_exp_skew = stretch_exp_fit(pl_skew_avg/np.max(pl_skew_avg), t)\n",
    "print(\"tau_c (ns) = \"+str(stretched_exp_skew[0]*1e9))\n",
    "print(\"Beta = \"+str(stretched_exp_skew[1]))\n",
    "print(\"avg. tau (ns) = \"+str(stretched_exp_skew[3]*1e9))"
   ]
  },
  {
   "cell_type": "code",
   "execution_count": null,
   "metadata": {},
   "outputs": [],
   "source": [
    "double_exp_skew = double_exp_fit(pl_skew_avg/np.max(pl_skew_avg), t)\n",
    "print(\"tau1 (ns) = \"+str(double_exp_skew[0]*1e9))\n",
    "print(\"a1 = \"+str(double_exp_skew[1]))\n",
    "print(\"tau2 (ns) = \"+str(double_exp_skew[2]*1e9))\n",
    "print(\"a2 = \"+str(double_exp_skew[3]))\n",
    "print(\"avg. tau (ns) = \"+str(double_exp_skew[4]*1e9))"
   ]
  },
  {
   "cell_type": "code",
   "execution_count": null,
   "metadata": {},
   "outputs": [],
   "source": [
    "triple_exp_skew = triple_exp_fit(pl_skew_avg/np.max(pl_skew_avg), t)\n",
    "print(\"tau1 (ns) = \"+str(triple_exp_skew[0]*1e9))\n",
    "print(\"a1 = \"+str(triple_exp_skew[1]))\n",
    "print(\"tau2 (ns) = \"+str(triple_exp_skew[2]*1e9))\n",
    "print(\"a2 = \"+str(triple_exp_skew[3]))\n",
    "print(\"tau3 (ns) = \"+str(triple_exp_skew[4]*1e9))\n",
    "print(\"a3 (ns) = \"+str(triple_exp_skew[5]))\n",
    "print(\"avg. tau (ns) = \"+str(triple_exp_skew[6]*1e9))"
   ]
  },
  {
   "cell_type": "code",
   "execution_count": null,
   "metadata": {},
   "outputs": [],
   "source": [
    "single_exp_skew = single_exp_fit(pl_skew_avg/np.max(pl_skew_avg), t)\n",
    "print(\"tau (ns) = \"+str(single_exp_skew[0]*1e9))\n",
    "print(\"a = \"+str(single_exp_skew[1]))\n",
    "print(\"avg. tau (ns) = \"+str(single_exp_skew[2]*1e9))"
   ]
  },
  {
   "cell_type": "code",
   "execution_count": null,
   "metadata": {},
   "outputs": [],
   "source": [
    "# plot average curve and multiple exponential fitting curves\n",
    "plt.figure(figsize=(10,8))\n",
    "plt.plot(t*1e9, pl_skew_avg/np.max(pl_skew_avg),'C1o', alpha=0.7,label=\"average\")\n",
    "plt.plot(t*1e9, stretched_exp_skew[4], 'b--', lw = 3, label=\"stretched exp fit\")\n",
    "plt.plot(t*1e9, double_exp_skew[5], 'r--', lw = 3, label=\"double exp fit\")\n",
    "plt.plot(t*1e9, triple_exp_skew[7], 'c--', lw = 3, label=\"triple exp fit\")\n",
    "plt.plot(t*1e9, single_exp_skew[3], 'g--', lw = 3, label=\"single exp fit\")\n",
    "plt.yscale('log')\n",
    "plt.xlabel(\"Time (ns)\", fontsize=30)\n",
    "plt.ylabel(\"Intensity (norm.)\", fontsize=30)\n",
    "plt.legend(fontsize=22)"
   ]
  },
  {
   "cell_type": "code",
   "execution_count": null,
   "metadata": {},
   "outputs": [],
   "source": [
    "#Mathematical deriation of lifetime from average curve knowing at $\\tau$ : $I = \\frac{I_0}{e}$\n",
    "\n",
    "#photoluminescence maximum divided by e\n",
    "PL_e_skew = np.max(pl_skew, axis=0)/np.e\n",
    "PL_e_skew.size\n",
    "\n",
    "# index of PL data calculated considering each array inside the array of pl singularly\n",
    "time_skew_PL_e = np.array([])\n",
    "for ix, i in enumerate(PL_e_skew):\n",
    "    b = find_idx(pl_skew[ix, :], i)\n",
    "    time_skew_PL_e = np.append(time_skew_PL_e, b)\n",
    "time_skew_PL_e\n",
    "\n",
    "# array of lifetime at which PL=PL0/e\n",
    "lifetime_skew = np.array([])\n",
    "for i in time_skew_PL_e:\n",
    "    lifetime_skew = np.append(lifetime_skew, t[int(i)]) \n",
    "lifetime_skew*1e9\n",
    "\n",
    "# index of LLI PL data calculated considering each array inside the array of pl singularly\n",
    "time_skew_PL_e = np.array([])\n",
    "for ix, i in enumerate(PL_e_skew):\n",
    "    b = find_idx(pl_skew[:, ix], i)\n",
    "    time_skew_PL_e = np.append(time_skew_PL_e, b)\n",
    "time_skew_PL_e\n",
    "\n",
    "# array of lifetime at which PL=PL0/e\n",
    "lifetime_skew = np.array([])\n",
    "for i in time_skew_PL_e:\n",
    "    lifetime_skew = np.append(lifetime_skew, t[int(i)]) \n",
    "lifetime_skew*1e9\n",
    "\n",
    "\n",
    "lifetime_skew_avg = np.average(lifetime_skew, weights= skew_sum, axis=-1)\n",
    "lifetime_skew_avg*1e9"
   ]
  },
  {
   "cell_type": "code",
   "execution_count": null,
   "metadata": {},
   "outputs": [],
   "source": [
    "#plot of different tau values, from mathematical calculation (reference) and fitting functions\n",
    "plt.figure()\n",
    "plt.title(\"Lifetime values\", fontsize=30, fontweight=\"bold\")\n",
    "plt.barh(\"Theoretical $\\tau$\", lifetime_skew_avg*1e9)\n",
    "plt.barh(\"Stretched Exp $\\tau$\", stretched_exp_skew[3]*1e9)\n",
    "plt.barh(\"Double Exp $\\tau^{avg}$\", double_exp_skew[4]*1e9)\n",
    "plt.barh(\"Double Exp $\\tau^{2}$\", double_exp_skew[2]*1e9)\n",
    "plt.barh(\"Single Exp $\\tau$\", single_exp_skew[2]*1e9)\n",
    "#plt.barh(\"Triple Exp $\\tau^{3}$\", triple_exp_skew[4]*1e9)\n",
    "#plt.barh(\"Triple Exp $\\tau^{avg}$\", triple_exp_skew[6]*1e9)"
   ]
  },
  {
   "cell_type": "code",
   "execution_count": null,
   "metadata": {},
   "outputs": [],
   "source": [
    "plt.figure()\n",
    "plt.barh(\"Theoretical $\\tau$\", lifetime_skew_avg*1e9)\n",
    "plt.barh(\"Stretched Exp $\\tau$\", stretched_exp_skew[3]*1e9)\n",
    "plt.barh(\"Double Exp $\\tau^{avg}$\", double_exp_skew[4]*1e9)"
   ]
  },
  {
   "cell_type": "markdown",
   "metadata": {},
   "source": [
    "### SN of k1 in LLI regime"
   ]
  },
  {
   "cell_type": "code",
   "execution_count": null,
   "metadata": {},
   "outputs": [],
   "source": [
    "# PL decay curves for each k1 value \n",
    "pl_skew = photoluminescence_LLI(k1= skew, t=np.linspace(0,10000, 5000)*1e-9)\n",
    "pl_skew\n",
    "\n",
    "# weight of each decay curve\n",
    "skew_sum = pl_skew.sum(axis=0)\n",
    "skew_sum.size\n",
    "\n",
    "\n",
    "# weighted average curve which is most likely the one we end up seeing as overall decay\n",
    "pl_skew_avg = np.average(pl_skew, weights=skew_sum, axis=-1)\n",
    "pl_skew_avg.size"
   ]
  },
  {
   "cell_type": "code",
   "execution_count": null,
   "metadata": {},
   "outputs": [],
   "source": [
    "#plot of all exponetial decay for each k1 and average curve\n",
    "plt.plot(t*1e9, pl_skew)\n",
    "plt.plot(t*1e9, pl_skew_avg,'k--', label=\"Average\")\n",
    "plt.xlabel('time (ns)', fontsize=12)\n",
    "plt.ylabel('PL intensity', fontsize=12)\n",
    "plt.show()"
   ]
  },
  {
   "cell_type": "code",
   "execution_count": null,
   "metadata": {},
   "outputs": [],
   "source": [
    "stretched_exp_skew = stretch_exp_fit(pl_skew_avg/np.max(pl_skew_avg), t)\n",
    "print(\"tau_c (ns) = \"+str(stretched_exp_skew[0]*1e9))\n",
    "print(\"Beta = \"+str(stretched_exp_skew[1]))\n",
    "print(\"avg. tau (ns) = \"+str(stretched_exp_skew[3]*1e9))"
   ]
  },
  {
   "cell_type": "code",
   "execution_count": null,
   "metadata": {},
   "outputs": [],
   "source": [
    "double_exp_skew = double_exp_fit(pl_skew_avg/np.max(pl_skew_avg), t)\n",
    "print(\"tau1 (ns) = \"+str(double_exp_skew[0]*1e9))\n",
    "print(\"a1 = \"+str(double_exp_skew[1]))\n",
    "print(\"tau2 (ns) = \"+str(double_exp_skew[2]*1e9))\n",
    "print(\"a2 = \"+str(double_exp_skew[3]))\n",
    "print(\"avg. tau (ns) = \"+str(double_exp_skew[4]*1e9))"
   ]
  },
  {
   "cell_type": "code",
   "execution_count": null,
   "metadata": {},
   "outputs": [],
   "source": [
    "triple_exp_skew = triple_exp_fit(pl_skew_avg/np.max(pl_skew_avg), t)\n",
    "print(\"tau1 (ns) = \"+str(triple_exp_skew[0]*1e9))\n",
    "print(\"a1 = \"+str(triple_exp_skew[1]))\n",
    "print(\"tau2 (ns) = \"+str(triple_exp_skew[2]*1e9))\n",
    "print(\"a2 = \"+str(triple_exp_skew[3]))\n",
    "print(\"tau3 (ns) = \"+str(triple_exp_skew[4]*1e9))\n",
    "print(\"a3 (ns) = \"+str(triple_exp_skew[5]))\n",
    "print(\"avg. tau (ns) = \"+str(triple_exp_skew[6]*1e9))"
   ]
  },
  {
   "cell_type": "code",
   "execution_count": null,
   "metadata": {},
   "outputs": [],
   "source": [
    "single_exp_skew = single_exp_fit(pl_skew_avg/np.max(pl_skew_avg), t)\n",
    "print(\"tau (ns) = \"+str(single_exp_skew[0]*1e9))\n",
    "print(\"a = \"+str(single_exp_skew[1]))\n",
    "print(\"avg. tau (ns) = \"+str(single_exp_skew[2]*1e9))"
   ]
  },
  {
   "cell_type": "code",
   "execution_count": null,
   "metadata": {},
   "outputs": [],
   "source": [
    "# plot average curve and multiple exponential fitting curves\n",
    "plt.figure(figsize=(10,8))\n",
    "plt.plot(t*1e9, pl_skew_avg/np.max(pl_skew_avg),'C1o', alpha=0.7,label=\"average\")\n",
    "plt.plot(t*1e9, stretched_exp_skew[4], 'b--', lw = 3, label=\"stretched exp fit\")\n",
    "plt.plot(t*1e9, double_exp_skew[5], 'r--', lw = 3, label=\"double exp fit\")\n",
    "plt.plot(t*1e9, triple_exp_skew[7], 'c--', lw = 3, label=\"triple exp fit\")\n",
    "plt.plot(t*1e9, single_exp_skew[3], 'g--', lw = 3, label=\"single exp fit\")\n",
    "plt.yscale('log')\n",
    "plt.xlabel(\"Time (ns)\", fontsize=30)\n",
    "plt.ylabel(\"Intensity (norm.)\", fontsize=30)\n",
    "plt.legend(fontsize=22)"
   ]
  },
  {
   "cell_type": "code",
   "execution_count": null,
   "metadata": {},
   "outputs": [],
   "source": [
    "#Mathematical deriation of lifetime from average curve knowing at $\\tau$ : $I = \\frac{I_0}{e}$\n",
    "\n",
    "#photoluminescence maximum divided by e\n",
    "PL_e_skew = np.max(pl_skew, axis=0)/np.e\n",
    "PL_e_skew.size\n",
    "\n",
    "# index of PL data calculated considering each array inside the array of pl singularly\n",
    "time_skew_PL_e = np.array([])\n",
    "for ix, i in enumerate(PL_e_skew):\n",
    "    b = find_idx(pl_skew[ix, :], i)\n",
    "    time_skew_PL_e = np.append(time_skew_PL_e, b)\n",
    "time_skew_PL_e\n",
    "\n",
    "# array of lifetime at which PL=PL0/e\n",
    "lifetime_skew = np.array([])\n",
    "for i in time_skew_PL_e:\n",
    "    lifetime_skew = np.append(lifetime_skew, t[int(i)]) \n",
    "lifetime_skew*1e9\n",
    "\n",
    "# index of LLI PL data calculated considering each array inside the array of pl singularly\n",
    "time_skew_PL_e = np.array([])\n",
    "for ix, i in enumerate(PL_e_skew):\n",
    "    b = find_idx(pl_skew[:, ix], i)\n",
    "    time_skew_PL_e = np.append(time_skew_PL_e, b)\n",
    "time_skew_PL_e\n",
    "\n",
    "# array of lifetime at which PL=PL0/e\n",
    "lifetime_skew = np.array([])\n",
    "for i in time_skew_PL_e:\n",
    "    lifetime_skew = np.append(lifetime_skew, t[int(i)]) \n",
    "lifetime_skew*1e9\n",
    "\n",
    "\n",
    "lifetime_skew_avg = np.average(lifetime_skew, weights= skew_sum, axis=-1)\n",
    "lifetime_skew_avg*1e9"
   ]
  },
  {
   "cell_type": "code",
   "execution_count": null,
   "metadata": {},
   "outputs": [],
   "source": [
    "#plot of different tau values, from mathematical calculation (reference) and fitting functions\n",
    "plt.figure()\n",
    "plt.title(\"Lifetime values\", fontsize=30, fontweight=\"bold\")\n",
    "plt.barh(\"Theoretical $\\tau$\", lifetime_skew_avg*1e9)\n",
    "plt.barh(\"Stretched Exp $\\tau$\", stretched_exp_skew[3]*1e9)\n",
    "plt.barh(\"Double Exp $\\tau^{avg}$\", double_exp_skew[4]*1e9)\n",
    "plt.barh(\"Double Exp $\\tau^{2}$\", double_exp_skew[2]*1e9)\n",
    "plt.barh(\"Single Exp $\\tau$\", single_exp_skew[2]*1e9)\n",
    "#plt.barh(\"Triple Exp $\\tau^{3}$\", triple_exp_skew[4]*1e9)\n",
    "#plt.barh(\"Triple Exp $\\tau^{avg}$\", triple_exp_skew[6]*1e9)"
   ]
  },
  {
   "cell_type": "code",
   "execution_count": null,
   "metadata": {},
   "outputs": [],
   "source": [
    "plt.figure()\n",
    "plt.barh(\"Theoretical $\\tau$\", lifetime_skew_avg*1e9)\n",
    "plt.barh(\"Stretched Exp $\\tau$\", stretched_exp_skew[3]*1e9)\n",
    "plt.barh(\"Double Exp $\\tau^{avg}$\", double_exp_skew[4]*1e9)"
   ]
  },
  {
   "cell_type": "markdown",
   "metadata": {},
   "source": [
    "# Skew Distribution of k1 with a = -5"
   ]
  },
  {
   "cell_type": "code",
   "execution_count": null,
   "metadata": {},
   "outputs": [],
   "source": [
    "# skewed gaussian distribution of k1 values\n",
    "skew = skewnorm.rvs(a = -5, loc = 1e6, scale=1e7, size=50)"
   ]
  },
  {
   "cell_type": "code",
   "execution_count": null,
   "metadata": {},
   "outputs": [],
   "source": [
    "plt.figure()\n",
    "plt.tick_params(length=8)\n",
    "plt.hist(skew)\n",
    "plt.xlabel(\"K1 values (s-1)\")\n",
    "plt.xscale(\"log\")"
   ]
  },
  {
   "cell_type": "markdown",
   "metadata": {},
   "source": [
    "### SN of k1 in HLI regime"
   ]
  },
  {
   "cell_type": "code",
   "execution_count": null,
   "metadata": {},
   "outputs": [],
   "source": [
    "# PL decay curves for each k1 value \n",
    "pl_skew = photoluminescence_HLI(k1= skew, t=np.linspace(0,10000, 5000)*1e-9)\n",
    "pl_skew\n",
    "\n",
    "# weight of each decay curve\n",
    "skew_sum = pl_skew.sum(axis=0)\n",
    "skew_sum.size\n",
    "\n",
    "\n",
    "# weighted average curve which is most likely the one we end up seeing as overall decay\n",
    "pl_skew_avg = np.average(pl_skew, weights=skew_sum, axis=-1)\n",
    "pl_skew_avg.size"
   ]
  },
  {
   "cell_type": "code",
   "execution_count": null,
   "metadata": {},
   "outputs": [],
   "source": [
    "#plot of all exponetial decay for each k1 and average curve\n",
    "plt.plot(t*1e9, pl_skew)\n",
    "plt.plot(t*1e9, pl_skew_avg,'k--', label=\"Average\")\n",
    "plt.xlabel('time (ns)', fontsize=12)\n",
    "plt.ylabel('PL intensity', fontsize=12)\n",
    "plt.show()"
   ]
  },
  {
   "cell_type": "code",
   "execution_count": null,
   "metadata": {},
   "outputs": [],
   "source": [
    "stretched_exp_skew = stretch_exp_fit(pl_skew_avg/np.max(pl_skew_avg), t)\n",
    "print(\"tau_c (ns) = \"+str(stretched_exp_skew[0]*1e9))\n",
    "print(\"Beta = \"+str(stretched_exp_skew[1]))\n",
    "print(\"avg. tau (ns) = \"+str(stretched_exp_skew[3]*1e9))"
   ]
  },
  {
   "cell_type": "code",
   "execution_count": null,
   "metadata": {},
   "outputs": [],
   "source": [
    "double_exp_skew = double_exp_fit(pl_skew_avg/np.max(pl_skew_avg), t)\n",
    "print(\"tau1 (ns) = \"+str(double_exp_skew[0]*1e9))\n",
    "print(\"a1 = \"+str(double_exp_skew[1]))\n",
    "print(\"tau2 (ns) = \"+str(double_exp_skew[2]*1e9))\n",
    "print(\"a2 = \"+str(double_exp_skew[3]))\n",
    "print(\"avg. tau (ns) = \"+str(double_exp_skew[4]*1e9))"
   ]
  },
  {
   "cell_type": "code",
   "execution_count": null,
   "metadata": {},
   "outputs": [],
   "source": [
    "triple_exp_skew = triple_exp_fit(pl_skew_avg/np.max(pl_skew_avg), t)\n",
    "print(\"tau1 (ns) = \"+str(triple_exp_skew[0]*1e9))\n",
    "print(\"a1 = \"+str(triple_exp_skew[1]))\n",
    "print(\"tau2 (ns) = \"+str(triple_exp_skew[2]*1e9))\n",
    "print(\"a2 = \"+str(triple_exp_skew[3]))\n",
    "print(\"tau3 (ns) = \"+str(triple_exp_skew[4]*1e9))\n",
    "print(\"a3 (ns) = \"+str(triple_exp_skew[5]))\n",
    "print(\"avg. tau (ns) = \"+str(triple_exp_skew[6]*1e9))"
   ]
  },
  {
   "cell_type": "code",
   "execution_count": null,
   "metadata": {},
   "outputs": [],
   "source": [
    "single_exp_skew = single_exp_fit(pl_skew_avg/np.max(pl_skew_avg), t)\n",
    "print(\"tau (ns) = \"+str(single_exp_skew[0]*1e9))\n",
    "print(\"a = \"+str(single_exp_skew[1]))\n",
    "print(\"avg. tau (ns) = \"+str(single_exp_skew[2]*1e9))"
   ]
  },
  {
   "cell_type": "code",
   "execution_count": null,
   "metadata": {},
   "outputs": [],
   "source": [
    "# plot average curve and multiple exponential fitting curves\n",
    "plt.figure(figsize=(10,8))\n",
    "plt.plot(t*1e9, pl_skew_avg/np.max(pl_skew_avg),'C1o', alpha=0.7,label=\"average\")\n",
    "plt.plot(t*1e9, stretched_exp_skew[4], 'b--', lw = 3, label=\"stretched exp fit\")\n",
    "plt.plot(t*1e9, double_exp_skew[5], 'r--', lw = 3, label=\"double exp fit\")\n",
    "plt.plot(t*1e9, triple_exp_skew[7], 'c--', lw = 3, label=\"triple exp fit\")\n",
    "plt.plot(t*1e9, single_exp_skew[3], 'g--', lw = 3, label=\"single exp fit\")\n",
    "plt.yscale('log')\n",
    "plt.xlabel(\"Time (ns)\", fontsize=30)\n",
    "plt.ylabel(\"Intensity (norm.)\", fontsize=30)\n",
    "plt.legend(fontsize=22)"
   ]
  },
  {
   "cell_type": "code",
   "execution_count": null,
   "metadata": {},
   "outputs": [],
   "source": [
    "#Mathematical deriation of lifetime from average curve knowing at $\\tau$ : $I = \\frac{I_0}{e}$\n",
    "\n",
    "#photoluminescence maximum divided by e\n",
    "PL_e_skew = np.max(pl_skew, axis=0)/np.e\n",
    "PL_e_skew.size\n",
    "\n",
    "# index of PL data calculated considering each array inside the array of pl singularly\n",
    "time_skew_PL_e = np.array([])\n",
    "for ix, i in enumerate(PL_e_skew):\n",
    "    b = find_idx(pl_skew[ix, :], i)\n",
    "    time_skew_PL_e = np.append(time_skew_PL_e, b)\n",
    "time_skew_PL_e\n",
    "\n",
    "# array of lifetime at which PL=PL0/e\n",
    "lifetime_skew = np.array([])\n",
    "for i in time_skew_PL_e:\n",
    "    lifetime_skew = np.append(lifetime_skew, t[int(i)]) \n",
    "lifetime_skew*1e9\n",
    "\n",
    "# index of LLI PL data calculated considering each array inside the array of pl singularly\n",
    "time_skew_PL_e = np.array([])\n",
    "for ix, i in enumerate(PL_e_skew):\n",
    "    b = find_idx(pl_skew[:, ix], i)\n",
    "    time_skew_PL_e = np.append(time_skew_PL_e, b)\n",
    "time_skew_PL_e\n",
    "\n",
    "# array of lifetime at which PL=PL0/e\n",
    "lifetime_skew = np.array([])\n",
    "for i in time_skew_PL_e:\n",
    "    lifetime_skew = np.append(lifetime_skew, t[int(i)]) \n",
    "lifetime_skew*1e9\n",
    "\n",
    "\n",
    "lifetime_skew_avg = np.average(lifetime_skew, weights= skew_sum, axis=-1)\n",
    "lifetime_skew_avg*1e9"
   ]
  },
  {
   "cell_type": "code",
   "execution_count": null,
   "metadata": {},
   "outputs": [],
   "source": [
    "#plot of different tau values, from mathematical calculation (reference) and fitting functions\n",
    "plt.figure()\n",
    "plt.title(\"Lifetime values\", fontsize=30, fontweight=\"bold\")\n",
    "plt.barh(\"Theoretical $\\tau$\", lifetime_skew_avg*1e9)\n",
    "plt.barh(\"Stretched Exp $\\tau$\", stretched_exp_skew[3]*1e9)\n",
    "plt.barh(\"Double Exp $\\tau^{avg}$\", double_exp_skew[4]*1e9)\n",
    "plt.barh(\"Double Exp $\\tau^{2}$\", double_exp_skew[2]*1e9)\n",
    "plt.barh(\"Single Exp $\\tau$\", single_exp_skew[2]*1e9)\n",
    "#plt.barh(\"Triple Exp $\\tau^{3}$\", triple_exp_skew[4]*1e9)\n",
    "#plt.barh(\"Triple Exp $\\tau^{avg}$\", triple_exp_skew[6]*1e9)"
   ]
  },
  {
   "cell_type": "code",
   "execution_count": null,
   "metadata": {},
   "outputs": [],
   "source": [
    "plt.figure()\n",
    "plt.barh(\"Theoretical $\\tau$\", lifetime_skew_avg*1e9)\n",
    "plt.barh(\"Stretched Exp $\\tau$\", stretched_exp_skew[3]*1e9)\n",
    "plt.barh(\"Double Exp $\\tau^{avg}$\", double_exp_skew[4]*1e9)"
   ]
  },
  {
   "cell_type": "markdown",
   "metadata": {},
   "source": [
    "### SN of k1 in LLI regime"
   ]
  },
  {
   "cell_type": "code",
   "execution_count": null,
   "metadata": {},
   "outputs": [],
   "source": [
    "# PL decay curves for each k1 value \n",
    "pl_skew = photoluminescence_LLI(k1= skew, t=np.linspace(0,10000, 5000)*1e-9)\n",
    "pl_skew\n",
    "\n",
    "# weight of each decay curve\n",
    "skew_sum = pl_skew.sum(axis=0)\n",
    "skew_sum.size\n",
    "\n",
    "\n",
    "# weighted average curve which is most likely the one we end up seeing as overall decay\n",
    "pl_skew_avg = np.average(pl_skew, weights=skew_sum, axis=-1)\n",
    "pl_skew_avg.size"
   ]
  },
  {
   "cell_type": "code",
   "execution_count": null,
   "metadata": {},
   "outputs": [],
   "source": [
    "#plot of all exponetial decay for each k1 and average curve\n",
    "plt.plot(t*1e9, pl_skew)\n",
    "plt.plot(t*1e9, pl_skew_avg,'k--', label=\"Average\")\n",
    "plt.xlabel('time (ns)', fontsize=12)\n",
    "plt.ylabel('PL intensity', fontsize=12)\n",
    "plt.show()"
   ]
  },
  {
   "cell_type": "code",
   "execution_count": null,
   "metadata": {},
   "outputs": [],
   "source": [
    "stretched_exp_skew = stretch_exp_fit(pl_skew_avg/np.max(pl_skew_avg), t)\n",
    "print(\"tau_c (ns) = \"+str(stretched_exp_skew[0]*1e9))\n",
    "print(\"Beta = \"+str(stretched_exp_skew[1]))\n",
    "print(\"avg. tau (ns) = \"+str(stretched_exp_skew[3]*1e9))"
   ]
  },
  {
   "cell_type": "code",
   "execution_count": null,
   "metadata": {},
   "outputs": [],
   "source": [
    "double_exp_skew = double_exp_fit(pl_skew_avg/np.max(pl_skew_avg), t)\n",
    "print(\"tau1 (ns) = \"+str(double_exp_skew[0]*1e9))\n",
    "print(\"a1 = \"+str(double_exp_skew[1]))\n",
    "print(\"tau2 (ns) = \"+str(double_exp_skew[2]*1e9))\n",
    "print(\"a2 = \"+str(double_exp_skew[3]))\n",
    "print(\"avg. tau (ns) = \"+str(double_exp_skew[4]*1e9))"
   ]
  },
  {
   "cell_type": "code",
   "execution_count": null,
   "metadata": {},
   "outputs": [],
   "source": [
    "triple_exp_skew = triple_exp_fit(pl_skew_avg/np.max(pl_skew_avg), t)\n",
    "print(\"tau1 (ns) = \"+str(triple_exp_skew[0]*1e9))\n",
    "print(\"a1 = \"+str(triple_exp_skew[1]))\n",
    "print(\"tau2 (ns) = \"+str(triple_exp_skew[2]*1e9))\n",
    "print(\"a2 = \"+str(triple_exp_skew[3]))\n",
    "print(\"tau3 (ns) = \"+str(triple_exp_skew[4]*1e9))\n",
    "print(\"a3 (ns) = \"+str(triple_exp_skew[5]))\n",
    "print(\"avg. tau (ns) = \"+str(triple_exp_skew[6]*1e9))"
   ]
  },
  {
   "cell_type": "code",
   "execution_count": null,
   "metadata": {},
   "outputs": [],
   "source": [
    "single_exp_skew = single_exp_fit(pl_skew_avg/np.max(pl_skew_avg), t)\n",
    "print(\"tau (ns) = \"+str(single_exp_skew[0]*1e9))\n",
    "print(\"a = \"+str(single_exp_skew[1]))\n",
    "print(\"avg. tau (ns) = \"+str(single_exp_skew[2]*1e9))"
   ]
  },
  {
   "cell_type": "code",
   "execution_count": null,
   "metadata": {},
   "outputs": [],
   "source": [
    "# plot average curve and multiple exponential fitting curves\n",
    "plt.figure(figsize=(10,8))\n",
    "plt.plot(t*1e9, pl_skew_avg/np.max(pl_skew_avg),'C1o', alpha=0.7,label=\"average\")\n",
    "plt.plot(t*1e9, stretched_exp_skew[4], 'b--', lw = 3, label=\"stretched exp fit\")\n",
    "plt.plot(t*1e9, double_exp_skew[5], 'r--', lw = 3, label=\"double exp fit\")\n",
    "plt.plot(t*1e9, triple_exp_skew[7], 'c--', lw = 3, label=\"triple exp fit\")\n",
    "plt.plot(t*1e9, single_exp_skew[3], 'g--', lw = 3, label=\"single exp fit\")\n",
    "plt.yscale('log')\n",
    "plt.xlabel(\"Time (ns)\", fontsize=30)\n",
    "plt.ylabel(\"Intensity (norm.)\", fontsize=30)\n",
    "plt.legend(fontsize=22)"
   ]
  },
  {
   "cell_type": "code",
   "execution_count": null,
   "metadata": {},
   "outputs": [],
   "source": [
    "#Mathematical deriation of lifetime from average curve knowing at $\\tau$ : $I = \\frac{I_0}{e}$\n",
    "\n",
    "#photoluminescence maximum divided by e\n",
    "PL_e_skew = np.max(pl_skew, axis=0)/np.e\n",
    "PL_e_skew.size\n",
    "\n",
    "# index of PL data calculated considering each array inside the array of pl singularly\n",
    "time_skew_PL_e = np.array([])\n",
    "for ix, i in enumerate(PL_e_skew):\n",
    "    b = find_idx(pl_skew[ix, :], i)\n",
    "    time_skew_PL_e = np.append(time_skew_PL_e, b)\n",
    "time_skew_PL_e\n",
    "\n",
    "# array of lifetime at which PL=PL0/e\n",
    "lifetime_skew = np.array([])\n",
    "for i in time_skew_PL_e:\n",
    "    lifetime_skew = np.append(lifetime_skew, t[int(i)]) \n",
    "lifetime_skew*1e9\n",
    "\n",
    "# index of LLI PL data calculated considering each array inside the array of pl singularly\n",
    "time_skew_PL_e = np.array([])\n",
    "for ix, i in enumerate(PL_e_skew):\n",
    "    b = find_idx(pl_skew[:, ix], i)\n",
    "    time_skew_PL_e = np.append(time_skew_PL_e, b)\n",
    "time_skew_PL_e\n",
    "\n",
    "# array of lifetime at which PL=PL0/e\n",
    "lifetime_skew = np.array([])\n",
    "for i in time_skew_PL_e:\n",
    "    lifetime_skew = np.append(lifetime_skew, t[int(i)]) \n",
    "lifetime_skew*1e9\n",
    "\n",
    "\n",
    "lifetime_skew_avg = np.average(lifetime_skew, weights= skew_sum, axis=-1)\n",
    "lifetime_skew_avg*1e9"
   ]
  },
  {
   "cell_type": "code",
   "execution_count": null,
   "metadata": {},
   "outputs": [],
   "source": [
    "#plot of different tau values, from mathematical calculation (reference) and fitting functions\n",
    "plt.figure()\n",
    "plt.title(\"Lifetime values\", fontsize=30, fontweight=\"bold\")\n",
    "plt.barh(\"Theoretical $\\tau$\", lifetime_skew_avg*1e9)\n",
    "plt.barh(\"Stretched Exp $\\tau$\", stretched_exp_skew[3]*1e9)\n",
    "plt.barh(\"Double Exp $\\tau^{avg}$\", double_exp_skew[4]*1e9)\n",
    "plt.barh(\"Double Exp $\\tau^{2}$\", double_exp_skew[2]*1e9)\n",
    "plt.barh(\"Single Exp $\\tau$\", single_exp_skew[2]*1e9)\n",
    "#plt.barh(\"Triple Exp $\\tau^{3}$\", triple_exp_skew[4]*1e9)\n",
    "#plt.barh(\"Triple Exp $\\tau^{avg}$\", triple_exp_skew[6]*1e9)"
   ]
  },
  {
   "cell_type": "code",
   "execution_count": null,
   "metadata": {},
   "outputs": [],
   "source": [
    "plt.figure()\n",
    "plt.barh(\"Theoretical $\\tau$\", lifetime_skew_avg*1e9)\n",
    "plt.barh(\"Stretched Exp $\\tau$\", stretched_exp_skew[3]*1e9)\n",
    "plt.barh(\"Double Exp $\\tau^{avg}$\", double_exp_skew[4]*1e9)"
   ]
  }
 ],
 "metadata": {
  "kernelspec": {
   "display_name": "Python 3",
   "language": "python",
   "name": "python3"
  },
  "language_info": {
   "codemirror_mode": {
    "name": "ipython",
    "version": 3
   },
   "file_extension": ".py",
   "mimetype": "text/x-python",
   "name": "python",
   "nbconvert_exporter": "python",
   "pygments_lexer": "ipython3",
   "version": "3.7.4"
  }
 },
 "nbformat": 4,
 "nbformat_minor": 4
}
